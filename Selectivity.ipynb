{
 "cells": [
  {
   "cell_type": "code",
   "execution_count": 23,
   "metadata": {},
   "outputs": [
    {
     "name": "stdout",
     "output_type": "stream",
     "text": [
      "Total number of results retrieved is 113615.0\n",
      "Selectivity is 8.80165471109e-06\n"
     ]
    }
   ],
   "source": [
    "from SPARQLWrapper import SPARQLWrapper, JSON\n",
    "from IPython.display import display\n",
    "import pandas as pd\n",
    "import json\n",
    "import numpy as np\n",
    "from pandas.io.json import json_normalize\n",
    "\n",
    "pd.options.display.max_colwidth = 100\n",
    "pd.options.display.max_rows = 999\n",
    "\n",
    "def execute_query(sparqlQuery):\n",
    "    sparql = SPARQLWrapper(\"http://zen.cs.rpi.edu:8890/sparql\")\n",
    "    sparql.setQuery(sparqlQuery)\n",
    "    sparql.setReturnFormat(JSON)\n",
    "    results = sparql.query().convert()\n",
    "    results_df = json_normalize(results[\"results\"][\"bindings\"])\n",
    "    val = float(results_df['countStar.value'])\n",
    "    print(\"Total number of results retrieved is \" + str(val))\n",
    "    return 1.0/val\n",
    "\n",
    "\n",
    "query = \"\"\"\n",
    "PREFIX  schema: <http://schema.org/>\n",
    "PREFIX  umbel-rc: <http://umbel.org/umbel/rc/>\n",
    "PREFIX  dbc:  <http://dbpedia.org/resource/Category:>\n",
    "PREFIX  owl:  <http://www.w3.org/2002/07/owl#>\n",
    "PREFIX  yago: <http://dbpedia.org/class/yago/>\n",
    "PREFIX  rdfs: <http://www.w3.org/2000/01/rdf-schema#>\n",
    "PREFIX  dbo:  <http://dbpedia.org/ontology/>\n",
    "PREFIX  dbp:  <http://dbpedia.org/property/>\n",
    "PREFIX  dbr: <http://dbpedia.org/resource/>\n",
    "PREFIX  rdf:  <http://www.w3.org/1999/02/22-rdf-syntax-ns#>\n",
    "PREFIX  dcterms: <http://purl.org/dc/terms/>\n",
    "PREFIX  dbpedia-wikidata: <http://wikidata.dbpedia.org/resource/>\n",
    "PREFIX  dul:  <http://www.ontologydesignpatterns.org/ont/dul/DUL.owl#>\n",
    "PREFIX  foaf: <http://xmlns.com/foaf/0.1/>\n",
    "PREFIX  dc:   <http://purl.org/dc/elements/1.1/>\n",
    "PREFIX prov: <http://www.w3.org/ns/prov#>\n",
    "\n",
    "SELECT  count(distinct ?o1) AS ?countStar\n",
    "WHERE\n",
    "  { \n",
    "\n",
    "    ?o1 ?p1 dbo:Film .\n",
    "\n",
    "    \n",
    "  }\n",
    "\n",
    "\"\"\"\n",
    "\n",
    "countQuery = \"\"\"\n",
    "\n",
    "\n",
    "\"\"\"\n",
    "selectivity = execute_query(query)\n",
    "print(\"Selectivity is \" + str(selectivity))\n"
   ]
  },
  {
   "cell_type": "code",
   "execution_count": null,
   "metadata": {
    "collapsed": true
   },
   "outputs": [],
   "source": []
  }
 ],
 "metadata": {
  "kernelspec": {
   "display_name": "Python 2",
   "language": "python",
   "name": "python2"
  },
  "language_info": {
   "codemirror_mode": {
    "name": "ipython",
    "version": 2
   },
   "file_extension": ".py",
   "mimetype": "text/x-python",
   "name": "python",
   "nbconvert_exporter": "python",
   "pygments_lexer": "ipython2",
   "version": "2.7.12"
  }
 },
 "nbformat": 4,
 "nbformat_minor": 2
}
